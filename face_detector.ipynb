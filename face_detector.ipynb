{
 "cells": [
  {
   "cell_type": "code",
   "execution_count": 1,
   "id": "ccdde862",
   "metadata": {},
   "outputs": [],
   "source": [
    "import cv2\n",
    "import numpy as np\n",
    "import matplotlib.pyplot as plt"
   ]
  },
  {
   "cell_type": "code",
   "execution_count": 2,
   "id": "27c0dfd5",
   "metadata": {},
   "outputs": [],
   "source": [
    "face_cascade = cv2.CascadeClassifier(\"/content/haarcascade_frontalface_default.xml\")\n",
    "eye_cascade = cv2.CascadeClassifier('/content/haarcascade_eye.xml')"
   ]
  },
  {
   "cell_type": "code",
   "execution_count": 3,
   "id": "3279b9be",
   "metadata": {},
   "outputs": [],
   "source": [
    "def adjusted_detect_face(img):\n",
    "    face_img = img.copy()\n",
    "    face_rect = face_cascade.detectMultiScale(face_img, scaleFactor=1.2, minNeighbors=5)\n",
    "\n",
    "    for (x, y, w, h) in face_rect:\n",
    "        cv2.rectangle(face_img, (x, y), (x + w, y + h), (255, 255, 255), 10)\n",
    "        \n",
    "    return face_img"
   ]
  },
  {
   "cell_type": "code",
   "execution_count": 4,
   "id": "9f525da7",
   "metadata": {},
   "outputs": [],
   "source": [
    "def detect_eyes(img):\n",
    "    eye_img = img.copy()\n",
    "    eye_rect = eye_cascade.detectMultiScale(eye_img, scaleFactor=1.2, minNeighbors=5)\n",
    "\n",
    "    for (x, y, w, h) in eye_rect:\n",
    "        cv2.rectangle(eye_img, (x, y), (x + w, y + h), (255, 255, 255), 10)\n",
    "        \n",
    "    return eye_img"
   ]
  },
  {
   "cell_type": "code",
   "execution_count": null,
   "id": "1e0134a3",
   "metadata": {},
   "outputs": [
    {
     "ename": "AttributeError",
     "evalue": "'NoneType' object has no attribute 'copy'",
     "output_type": "error",
     "traceback": [
      "\u001b[31m---------------------------------------------------------------------------\u001b[39m",
      "\u001b[31mAttributeError\u001b[39m                            Traceback (most recent call last)",
      "\u001b[36mCell\u001b[39m\u001b[36m \u001b[39m\u001b[32mIn[7]\u001b[39m\u001b[32m, line 2\u001b[39m\n\u001b[32m      1\u001b[39m img = cv2.imread(\u001b[33m'\u001b[39m\u001b[33m/content/andrew.jpg\u001b[39m\u001b[33m'\u001b[39m)\n\u001b[32m----> \u001b[39m\u001b[32m2\u001b[39m img_copy1 = \u001b[43mimg\u001b[49m\u001b[43m.\u001b[49m\u001b[43mcopy\u001b[49m()\n\u001b[32m      3\u001b[39m img_copy2 = img.copy()\n\u001b[32m      4\u001b[39m img_copy3 = img.copy()\n",
      "\u001b[31mAttributeError\u001b[39m: 'NoneType' object has no attribute 'copy'"
     ]
    }
   ],
   "source": [
    "img = cv2.imread('/andrew.jpg')\n",
    "img_copy1 = img.copy()\n",
    "img_copy2 = img.copy()\n",
    "img_copy3 = img.copy()\n",
    "\n",
    "plt.imshow(cv2.cvtColor(img, cv2.COLOR_BGR2RGB))\n",
    "plt.imshow(img_rgb)\n",
    "plt.axis('off')  # Optional: Hide axis\n",
    "plt.title(\"Original Image\")  # Optional: Add title\n",
    "plt.show()"
   ]
  },
  {
   "cell_type": "code",
   "execution_count": null,
   "id": "39cd5118",
   "metadata": {},
   "outputs": [],
   "source": []
  },
  {
   "cell_type": "code",
   "execution_count": null,
   "id": "1da44007",
   "metadata": {},
   "outputs": [],
   "source": []
  }
 ],
 "metadata": {
  "kernelspec": {
   "display_name": "Python 3",
   "language": "python",
   "name": "python3"
  },
  "language_info": {
   "codemirror_mode": {
    "name": "ipython",
    "version": 3
   },
   "file_extension": ".py",
   "mimetype": "text/x-python",
   "name": "python",
   "nbconvert_exporter": "python",
   "pygments_lexer": "ipython3",
   "version": "3.12.6"
  }
 },
 "nbformat": 4,
 "nbformat_minor": 5
}
